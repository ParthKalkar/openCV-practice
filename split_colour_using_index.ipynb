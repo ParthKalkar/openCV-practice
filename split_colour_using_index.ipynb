{
 "cells": [
  {
   "cell_type": "code",
   "execution_count": null,
   "metadata": {},
   "outputs": [],
   "source": [
    "# split color image on channels using python indexing\n",
    "#\n",
    "img_r,img_g,img_b = imgrgb[:,:,0], imgrgb[:,:,1], imgrgb[:,:,2]\n",
    "# \n",
    "\n",
    "plt.imshow(img_r, cmap = 'gray')\n",
    "plt.title('red channel')\n",
    "plt.show()\n",
    "plt.imshow(img_g, cmap = 'gray')\n",
    "plt.title('green channel')\n",
    "plt.show()\n",
    "plt.imshow(img_b, cmap = 'gray')\n",
    "plt.title('blue channel')\n",
    "plt.show()\n",
    "\n",
    "# merge color channels\n",
    "img_merged = cv2.merge((img_r,img_g,img_b))\n",
    "plt.imshow(img_merged)\n",
    "plt.show()"
   ]
  }
 ],
 "metadata": {
  "kernelspec": {
   "display_name": "Python 3.10.6 64-bit (windows store)",
   "language": "python",
   "name": "python3"
  },
  "language_info": {
   "name": "python",
   "version": "3.10.6"
  },
  "orig_nbformat": 4,
  "vscode": {
   "interpreter": {
    "hash": "85c33c971fe848e227dd1e536b4277387c9539e50f1d73a227c0b5c33332d05b"
   }
  }
 },
 "nbformat": 4,
 "nbformat_minor": 2
}
