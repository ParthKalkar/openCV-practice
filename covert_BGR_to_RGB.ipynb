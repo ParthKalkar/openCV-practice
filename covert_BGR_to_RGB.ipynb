{
 "cells": [
  {
   "cell_type": "code",
   "execution_count": null,
   "metadata": {},
   "outputs": [],
   "source": [
    "# using opencv\n",
    "imgbgr = img\n",
    "imgrgb = cv2.cvtColor(imgbgr, cv2.COLOR_BGR2RGB)\n",
    "plt.imshow(imgrgb)\n",
    "plt.show()\n",
    "\n",
    "# resize the image\n",
    "imgrgb = cv2.resize(imgrgb, None, fx=0.5, fy=0.5, interpolation = cv2.INTER_CUBIC)\n",
    "\n",
    "plt.imshow(imgrgb)\n",
    "plt.show()\n",
    "\n",
    "# or just usin python indexing, reverse the order of colors\n",
    "imgrgb = imgbgr[:,:,::-1]\n",
    "imgrgb = cv2.resize(imgrgb, None, fx=0.5, fy=0.5, interpolation = cv2.INTER_CUBIC)\n",
    "plt.imshow(imgrgb)\n",
    "plt.show()"
   ]
  }
 ],
 "metadata": {
  "language_info": {
   "name": "python"
  },
  "orig_nbformat": 4
 },
 "nbformat": 4,
 "nbformat_minor": 2
}
