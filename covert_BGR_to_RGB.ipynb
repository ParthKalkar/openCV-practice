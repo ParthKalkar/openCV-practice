{
 "cells": [
  {
   "cell_type": "code",
   "execution_count": null,
   "metadata": {},
   "outputs": [],
   "source": [
    "# using opencv\n",
    "imgbgr = img\n",
    "imgrgb = cv2.cvtColor(imgbgr, cv2.COLOR_BGR2RGB)\n",
    "plt.imshow(imgrgb)\n",
    "plt.show()\n",
    "\n",
    "# resize the image\n",
    "imgrgb = cv2.resize(imgrgb, None, fx=0.5, fy=0.5, interpolation = cv2.INTER_CUBIC)\n",
    "\n",
    "plt.imshow(imgrgb)\n",
    "plt.show()\n",
    "\n",
    "# or just usin python indexing, reverse the order of colors\n",
    "imgrgb = imgbgr[:,:,::-1]\n",
    "imgrgb = cv2.resize(imgrgb, None, fx=0.5, fy=0.5, interpolation = cv2.INTER_CUBIC)\n",
    "plt.imshow(imgrgb)\n",
    "plt.show()"
   ]
  }
 ],
 "metadata": {
  "kernelspec": {
   "display_name": "Python 3.10.6 64-bit (windows store)",
   "language": "python",
   "name": "python3"
  },
  "language_info": {
   "name": "python",
   "version": "3.10.6"
  },
  "orig_nbformat": 4,
  "vscode": {
   "interpreter": {
    "hash": "85c33c971fe848e227dd1e536b4277387c9539e50f1d73a227c0b5c33332d05b"
   }
  }
 },
 "nbformat": 4,
 "nbformat_minor": 2
}
