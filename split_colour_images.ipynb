{
 "cells": [
  {
   "cell_type": "code",
   "execution_count": null,
   "metadata": {},
   "outputs": [],
   "source": [
    "# split color image on channels using inbuilt functions\n",
    "img_r,img_g,img_b = cv2.split(imgrgb)\n",
    "\n",
    "plt.imshow(img_r, cmap = 'gray')\n",
    "plt.title('red channel')\n",
    "plt.show()\n",
    "plt.imshow(img_g, cmap = 'gray')\n",
    "plt.title('green channel')\n",
    "plt.show()\n",
    "plt.imshow(img_b, cmap = 'gray')\n",
    "plt.title('blue channel')\n",
    "plt.show()\n",
    "\n",
    "# merge color channels\n",
    "img_merged = cv2.merge((img_r,img_g,img_b))\n",
    "print('red channel size {}'.format(img_r.shape))\n",
    "print('green channel size {}'.format(img_g.shape))\n",
    "print('blue channel size {}'.format(img_b.shape))\n",
    "print('merged image size {}'.format(img_merged.shape))\n",
    "\n",
    "plt.imshow(img_merged)\n",
    "plt.show()"
   ]
  }
 ],
 "metadata": {
  "language_info": {
   "name": "python"
  },
  "orig_nbformat": 4
 },
 "nbformat": 4,
 "nbformat_minor": 2
}
