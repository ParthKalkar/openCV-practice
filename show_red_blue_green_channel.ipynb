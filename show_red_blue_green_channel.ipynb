{
 "cells": [
  {
   "cell_type": "code",
   "execution_count": null,
   "metadata": {},
   "outputs": [],
   "source": [
    "# red_colored \n",
    "red_colored = np.zeros((img_r.shape[0],img_r.shape[1],3), dtype=np.int)\n",
    "red_colored[:,:,0] = img_r\n",
    "plt.imshow(red_colored)\n",
    "plt.show()\n",
    "\n",
    "#\n",
    "# green_colored \n",
    "green_colored = np.zeros((img_g.shape[0],img_g.shape[1],3), dtype=np.int)\n",
    "green_colored[:,:,1] = img_g\n",
    "plt.imshow(green_colored)\n",
    "plt.show()\n",
    "#\n",
    "\n",
    "#\n",
    "# blue_colored \n",
    "blue_colored = np.zeros((img_b.shape[0],img_b.shape[1],3), dtype=np.int)\n",
    "blue_colored[:,:,2] = img_b\n",
    "plt.imshow(blue_colored)\n",
    "plt.show()\n",
    "#"
   ]
  },
  {
   "cell_type": "code",
   "execution_count": null,
   "metadata": {},
   "outputs": [],
   "source": []
  }
 ],
 "metadata": {
  "kernelspec": {
   "display_name": "Python 3.10.6 64-bit (windows store)",
   "language": "python",
   "name": "python3"
  },
  "language_info": {
   "codemirror_mode": {
    "name": "ipython",
    "version": 3
   },
   "file_extension": ".py",
   "mimetype": "text/x-python",
   "name": "python",
   "nbconvert_exporter": "python",
   "pygments_lexer": "ipython3",
   "version": "3.10.6"
  },
  "orig_nbformat": 4,
  "vscode": {
   "interpreter": {
    "hash": "85c33c971fe848e227dd1e536b4277387c9539e50f1d73a227c0b5c33332d05b"
   }
  }
 },
 "nbformat": 4,
 "nbformat_minor": 2
}
