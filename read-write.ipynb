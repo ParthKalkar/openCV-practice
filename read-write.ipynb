{
 "cells": [
  {
   "cell_type": "code",
   "execution_count": null,
   "metadata": {},
   "outputs": [],
   "source": [
    "# read image from file \n",
    "# grayscale image \n",
    "img_gray = cv2.imread('cat.jpg', cv2.IMREAD_GRAYSCALE)\n",
    "plt.imshow(img_gray, cmap = 'gray')\n",
    "plt.show()\n",
    "\n",
    "# bgr image\n",
    "img = cv2.imread('cat.jpg', cv2.IMREAD_COLOR)\n",
    "plt.imshow(img)\n",
    "plt.show()\n",
    "\n",
    "# save image to file\n",
    "cv2.imwrite('cat_saved.jpg',img_gray)\n",
    "\n",
    "# function imshow also can be used, but not in colab, because it breaks colab kernel\n",
    "# cv2.namedWindow('image', cv2.WINDOW_NORMAL)\n",
    "# cv2.imshow('image',img)\n",
    "\n",
    "\n",
    "# The underlying representation is a numpy array!\n",
    "print('OpenCV representation of image in Python is {}'.format(type(img)))\n",
    "print('Numpy array of size:{}'.format(img.shape))"
   ]
  }
 ],
 "metadata": {
  "language_info": {
   "name": "python"
  },
  "orig_nbformat": 4
 },
 "nbformat": 4,
 "nbformat_minor": 2
}
