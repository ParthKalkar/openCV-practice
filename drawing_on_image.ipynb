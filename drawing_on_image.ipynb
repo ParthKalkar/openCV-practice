{
 "cells": [
  {
   "cell_type": "code",
   "execution_count": null,
   "metadata": {},
   "outputs": [],
   "source": [
    "# create black canvas\n",
    "h, w, c = 480, 640, 3 # height, width and channels\n",
    "img_to_draw = np.zeros((h, w, c), np.uint8)\n",
    "\n",
    "# draw line \n",
    "# cv2.line params: \n",
    "# image, line begin point, line end point, color, thikness\n",
    "cv2.line(img_to_draw, (0,int(4*h/5)), (w,int(4*h/5)), (255,0,0), 5)\n",
    "\n",
    "# draw rectangle\n",
    "# cv2.rectangle params:\n",
    "# image, left corner, opposite to left corner, color, thikness\n",
    "cv2.rectangle(img_to_draw,(100,100),(200,200),(255,255,0),-1)\n",
    "\n",
    "# draw circle\n",
    "# cv2.circle params:\n",
    "# image, center, radius, color, thikness (-1 - paint over)\n",
    "cv2.circle(img_to_draw,(450,150), 63, (255,0,255), -1)\n",
    "\n",
    "# draw ellipse\n",
    "# cv2.ellipse params:\n",
    "# image, center, half of the size of the ellipse main axes, ellipse rotation angle in degrees, \n",
    "# starting angle of the elliptic arc in degrees, ending angle, color, thickness\n",
    "cv2.ellipse(img_to_draw,(300,300),(100,50),0,0,240,255,-1)\n",
    "\n",
    "# draw arbitrary polygon\n",
    "pts = np.array([[100,50],[200,300],[120,200],[350,100]], np.int32)\n",
    "pts = pts.reshape((-1,1,2))\n",
    "\n",
    "# cv2.polylines params:\n",
    "# image, polygon lines, closed or not, color\n",
    "cv2.polylines(img_to_draw,[pts],True,(0,255,255))\n",
    "\n",
    "# add text on image\n",
    "font = cv2.FONT_HERSHEY_SIMPLEX\n",
    "text = 'Hello world!'\n",
    "# cv2.putText params:\n",
    "# image, text, bottom-left corner of the text in the image,\n",
    "# font, size, color, thikness, line type\n",
    "cv2.putText(img_to_draw, text, (0,int(4*h/5)), font, 3,(255,255,255),2,cv2.LINE_AA)\n",
    "    \n",
    "plt.imshow(img_to_draw)"
   ]
  }
 ],
 "metadata": {
  "language_info": {
   "name": "python"
  },
  "orig_nbformat": 4
 },
 "nbformat": 4,
 "nbformat_minor": 2
}
